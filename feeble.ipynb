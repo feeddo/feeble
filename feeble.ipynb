{
 "cells": [
  {
   "cell_type": "code",
   "execution_count": 1,
   "id": "b6f26602",
   "metadata": {
    "_cell_guid": "b1076dfc-b9ad-4769-8c92-a6c4dae69d19",
    "_uuid": "8f2839f25d086af736a60e9eeb907d3b93b6e0e5",
    "execution": {
     "iopub.execute_input": "2023-01-14T20:22:40.317115Z",
     "iopub.status.busy": "2023-01-14T20:22:40.316131Z",
     "iopub.status.idle": "2023-01-14T20:23:54.971597Z",
     "shell.execute_reply": "2023-01-14T20:23:54.970296Z"
    },
    "papermill": {
     "duration": 74.66368,
     "end_time": "2023-01-14T20:23:54.974825",
     "exception": false,
     "start_time": "2023-01-14T20:22:40.311145",
     "status": "completed"
    },
    "tags": []
   },
   "outputs": [],
   "source": [
    "# This Python 3 environment comes with many helpful analytics libraries installed\n",
    "# It is defined by the kaggle/python Docker image: https://github.com/kaggle/docker-python\n",
    "# For example, here's several helpful packages to load\n",
    "\n",
    "import os \n",
    "import numpy as np # linear algebra\n",
    "import pandas as pd # data processing, CSV file I/O (e.g. pd.read_csv)\n",
    "from catboost import CatBoost, CatBoostRegressor, Pool\n",
    "\n",
    "df_train = pd.read_csv('../input/nsu-bda-2022-e-commerce/train.csv')\n",
    "train_label = df_train.Sales\n",
    "df_train = df_train.drop(['Name','Color','Rating','Sales','full_category'], axis=1)\n",
    "df_train['Category'] = df_train.Category.astype(str)\n",
    "df_train['Brand'] = df_train.Brand.astype(str)\n",
    "df_train['Seller'] = df_train.Seller.astype(str)\n",
    "\n",
    "df_test = pd.read_csv('../input/nsu-bda-2022-e-commerce/test.csv')\n",
    "df_test = df_test.drop(['Id','Name','Color','Rating','full_category'], axis=1)\n",
    "df_test['Category'] = df_test.Category.astype(str)\n",
    "df_test['Brand'] = df_test.Brand.astype(str)\n",
    "df_test['Seller'] = df_test.Seller.astype(str)\n",
    "\n",
    "model = CatBoostRegressor(iterations=5000,\n",
    "                          learning_rate=0.01,\n",
    "                          depth=6,\n",
    "                          l2_leaf_reg=1.2,\n",
    "                          )\n",
    "\n",
    "model.fit(df_train, train_label, verbose=False, cat_features=['Category','Brand','Seller'])\n",
    "\n",
    "\n",
    "pred = model.predict(df_test)\n",
    "\n",
    "try:\n",
    "    os.remove(\"solution.csv\")\n",
    "except OSError:\n",
    "    pass\n",
    "\n",
    "f = open(\"solution.csv\", \"a\")\n",
    "f.write('Id,Expected\\n')\n",
    "for i in range(pred.size):\n",
    "    if pred[i] >= 0:\n",
    "        f.write(str(i) + ',' + str(int(pred[i])) + '\\n')\n",
    "    else:\n",
    "        f.write(str(i) + ',0\\n')\n",
    "f.close()\n",
    "\n",
    "# Input data files are available in the read-only \"../input/\" directory\n",
    "# For example, running this (by clicking run or pressing Shift+Enter) will list all files under the input directory\n",
    "\n",
    "\n",
    "\n",
    "# You can write up to 20GB to the current directory (/kaggle/working/) that gets preserved as output when you create a version using \"Save & Run All\" \n",
    "# You can also write temporary files to /kaggle/temp/, but they won't be saved outside of the current session"
   ]
  },
  {
   "cell_type": "code",
   "execution_count": null,
   "id": "0389f7d1",
   "metadata": {
    "execution": {
     "iopub.execute_input": "2023-01-14T18:17:33.259706Z",
     "iopub.status.busy": "2023-01-14T18:17:33.259257Z",
     "iopub.status.idle": "2023-01-14T18:17:33.345548Z",
     "shell.execute_reply": "2023-01-14T18:17:33.344129Z",
     "shell.execute_reply.started": "2023-01-14T18:17:33.259668Z"
    },
    "papermill": {
     "duration": 0.001532,
     "end_time": "2023-01-14T20:23:54.978494",
     "exception": false,
     "start_time": "2023-01-14T20:23:54.976962",
     "status": "completed"
    },
    "tags": []
   },
   "outputs": [],
   "source": []
  }
 ],
 "metadata": {
  "kernelspec": {
   "display_name": "Python 3",
   "language": "python",
   "name": "python3"
  },
  "language_info": {
   "codemirror_mode": {
    "name": "ipython",
    "version": 3
   },
   "file_extension": ".py",
   "mimetype": "text/x-python",
   "name": "python",
   "nbconvert_exporter": "python",
   "pygments_lexer": "ipython3",
   "version": "3.7.12"
  },
  "papermill": {
   "default_parameters": {},
   "duration": 84.327903,
   "end_time": "2023-01-14T20:23:55.805066",
   "environment_variables": {},
   "exception": null,
   "input_path": "__notebook__.ipynb",
   "output_path": "__notebook__.ipynb",
   "parameters": {},
   "start_time": "2023-01-14T20:22:31.477163",
   "version": "2.3.4"
  }
 },
 "nbformat": 4,
 "nbformat_minor": 5
}
